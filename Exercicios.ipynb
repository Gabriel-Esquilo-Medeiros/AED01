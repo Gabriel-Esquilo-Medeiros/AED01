{
 "cells": [
  {
   "cell_type": "markdown",
   "id": "a7251feb-4690-4de6-b48e-599b6fee1aa0",
   "metadata": {},
   "source": [
    "# 1)Faça um algoritmo para ler um número se ele é par ou impar, positivo ou negativo."
   ]
  },
  {
   "cell_type": "code",
   "execution_count": 31,
   "id": "fc71421c-b882-4bec-93b2-291edb6949db",
   "metadata": {},
   "outputs": [
    {
     "name": "stdin",
     "output_type": "stream",
     "text": [
      "Digite um número:  -2.2\n"
     ]
    },
    {
     "name": "stdout",
     "output_type": "stream",
     "text": [
      "Ele é ímpar e negativo!\n"
     ]
    }
   ],
   "source": [
    "x = float(input(\"Digite um número: \"))\n",
    "if x % 2 == 0 and x > 0:\n",
    "    print(\"Ele é par e positivo!\")\n",
    "elif x % 2 == 0 and x < 0:\n",
    "     print(\"Ele é par e negativo!\")\n",
    "elif x % 2 != 0 and x > 0:\n",
    "    print(\"Ele é ímpar e positivo\")\n",
    "else:\n",
    "     print(\"Ele é ímpar e negativo!\")"
   ]
  },
  {
   "cell_type": "markdown",
   "id": "066c154e-1953-4ca0-bea0-2ca129f85966",
   "metadata": {},
   "source": [
    "# 2):"
   ]
  },
  {
   "cell_type": "code",
   "execution_count": 39,
   "id": "88dacb77-3af9-4810-afaf-8e02086998e2",
   "metadata": {},
   "outputs": [
    {
     "name": "stdin",
     "output_type": "stream",
     "text": [
      "Digite um número:  99\n",
      "Digite outro número:  100\n"
     ]
    },
    {
     "name": "stdout",
     "output_type": "stream",
     "text": [
      "O número 100.0 é maior que o 99.0\n"
     ]
    }
   ],
   "source": [
    "x = float(input(\"Digite um número: \"))\n",
    "y = float(input(\"Digite outro número: \"))\n",
    "if x > y:\n",
    "    print(\"O número\" , x , \"é maior que o\" , y)\n",
    "elif y > x:\n",
    "    print(\"O número\" , y , \"é maior que o\" , x)\n",
    "else:\n",
    "    print(\"Eles são iguais!\")"
   ]
  },
  {
   "cell_type": "markdown",
   "id": "b8609a68-7e51-4ebe-b0c1-3a88d54673e5",
   "metadata": {},
   "source": [
    "# 3):"
   ]
  },
  {
   "cell_type": "code",
   "execution_count": 78,
   "id": "5188a807-c0be-4e51-8535-c536c00b5c41",
   "metadata": {},
   "outputs": [
    {
     "name": "stdin",
     "output_type": "stream",
     "text": [
      "Digite uma letra:  A\n"
     ]
    },
    {
     "name": "stdout",
     "output_type": "stream",
     "text": [
      "A letra é uma vogal!\n"
     ]
    }
   ],
   "source": [
    "letra = str(input(\"Digite uma letra: \"))\n",
    "if letra in \"AEIOU\":\n",
    "    print(\"A letra é uma vogal!\")\n",
    "else:\n",
    "    print(\"A letra é uma consoante!\")"
   ]
  },
  {
   "cell_type": "markdown",
   "id": "6681a256-7b1d-4f89-af3b-c2cf6473416c",
   "metadata": {},
   "source": [
    "# 4):"
   ]
  },
  {
   "cell_type": "code",
   "execution_count": 91,
   "id": "373b5009-a36d-4ac8-a11a-e1fe70a88c79",
   "metadata": {},
   "outputs": [
    {
     "name": "stdin",
     "output_type": "stream",
     "text": [
      "Informe sua 1° nota:  5.9\n",
      "Informe sua 2° nota:  9.9\n"
     ]
    },
    {
     "name": "stdout",
     "output_type": "stream",
     "text": [
      "Aprovado!\n"
     ]
    }
   ],
   "source": [
    "nota1 = float(input(\"Informe sua 1° nota: \"))\n",
    "nota2 = float(input(\"Informe sua 2° nota: \"))\n",
    "media = (nota1 + nota2) / 2\n",
    "\n",
    "if media == 10:\n",
    "    print(\"Aprovado com Distinção!\")\n",
    "elif media >= 7:\n",
    "    print(\"Aprovado!\")\n",
    "else:\n",
    "    print(\"Reprovado!\")"
   ]
  },
  {
   "cell_type": "markdown",
   "id": "bd728773-66c8-4e9a-9346-f4b49ecbc6c5",
   "metadata": {},
   "source": [
    "# 5)"
   ]
  },
  {
   "cell_type": "code",
   "execution_count": 100,
   "id": "79420398-5ac5-4ee0-8b3d-1dcb23703a56",
   "metadata": {},
   "outputs": [
    {
     "name": "stdin",
     "output_type": "stream",
     "text": [
      "Qual o preço do produto 1| R$ 5\n",
      "Qual o preço do produto 2| R$ 8\n",
      "Qual o preço do produto 3| R$ 9.9\n"
     ]
    },
    {
     "name": "stdout",
     "output_type": "stream",
     "text": [
      "Compre o primeiro produto!\n"
     ]
    }
   ],
   "source": [
    "p1 = float(input(\"Qual o preço do produto 1| R$\"))\n",
    "p2 = float(input(\"Qual o preço do produto 2| R$\"))\n",
    "p3 = float(input(\"Qual o preço do produto 3| R$\"))\n",
    "if p1 < p2 and p1 < p3:\n",
    "    print(\"Compre o primeiro produto!\")\n",
    "elif p2 < p1 and p2 < p3:\n",
    "    print(\"Compre o segundo produto!\")\n",
    "else:\n",
    "    print(\"Compre o terceiro produto!\")"
   ]
  },
  {
   "cell_type": "markdown",
   "id": "d73f40b5-7be6-4247-8148-fe110dad4c08",
   "metadata": {},
   "source": [
    "# 6)"
   ]
  },
  {
   "cell_type": "code",
   "execution_count": 107,
   "id": "8ab692c0-dab5-4a71-a5e4-f14245bdf7e4",
   "metadata": {},
   "outputs": [
    {
     "name": "stdin",
     "output_type": "stream",
     "text": [
      "Digite um número  100\n",
      "Digite mais um número  -45\n",
      "Digite outro número  40\n"
     ]
    },
    {
     "name": "stdout",
     "output_type": "stream",
     "text": [
      "100.0 40.0 -45.0\n"
     ]
    }
   ],
   "source": [
    "x = float(input(\"Digite um número \"))\n",
    "y = float(input(\"Digite mais um número \"))\n",
    "z = float(input(\"Digite outro número \"))\n",
    "if x > y and x > z:\n",
    "    maior = x\n",
    "    if y > z:\n",
    "        meio = y\n",
    "        menor = z\n",
    "    else:\n",
    "        meio = z\n",
    "        menor = y\n",
    "elif y > x and y > z:\n",
    "    maior = y\n",
    "    if x > z:\n",
    "        meio = x\n",
    "        menor = z\n",
    "    else:\n",
    "        meio = z\n",
    "        menor = x\n",
    "else:\n",
    "    maior = z\n",
    "    if x > y:\n",
    "        meio = x\n",
    "        menor = y\n",
    "    else:\n",
    "        meio = y\n",
    "        menor = x\n",
    "print(maior, meio , menor)"
   ]
  },
  {
   "cell_type": "markdown",
   "id": "30d214e7-8db1-408e-8837-79c719ad0c13",
   "metadata": {},
   "source": [
    "# 7)"
   ]
  },
  {
   "cell_type": "code",
   "execution_count": 122,
   "id": "eeddd760-af3e-4976-9562-dbfe37ea91f3",
   "metadata": {},
   "outputs": [
    {
     "name": "stdin",
     "output_type": "stream",
     "text": [
      "Em que turno você estuda? 'M' para matutino, 'V' para vespertino e 'N' para noturno:  N\n"
     ]
    },
    {
     "name": "stdout",
     "output_type": "stream",
     "text": [
      "Boa noite!\n"
     ]
    }
   ],
   "source": [
    "turno = str(input(\"Em que turno você estuda? 'M' para matutino, 'V' para vespertino e 'N' para noturno: \"))\n",
    "if turno == \"M\":\n",
    "    print(\"Bom dia!\")\n",
    "elif turno == \"V\":\n",
    "    print(\"Boa tarde!\")\n",
    "elif turno == \"N\":\n",
    "    print(\"Boa noite!\")\n",
    "else:\n",
    "    print(\"Valor inválido!!\")"
   ]
  },
  {
   "cell_type": "markdown",
   "id": "d2a02465-3bc3-4f07-b631-a4e2ab1aba02",
   "metadata": {},
   "source": [
    "# 8)"
   ]
  },
  {
   "cell_type": "code",
   "execution_count": 38,
   "id": "85d08d00-8836-4023-987c-c74bad0330b4",
   "metadata": {},
   "outputs": [
    {
     "name": "stdin",
     "output_type": "stream",
     "text": [
      "Qual o seu salário e eu direi o seu aumento| R$ 200\n"
     ]
    },
    {
     "name": "stdout",
     "output_type": "stream",
     "text": [
      "Seu salário antes era R$ 200.0 e recebeu um aumento de  20\n",
      "O aumento foi de R$ 40.0 chegando ao total de: R$ 240.0\n"
     ]
    }
   ],
   "source": [
    "salarioI = float(input(\"Qual o seu salário e eu direi o seu aumento| R$\"))\n",
    "\n",
    "if salarioI <= 280:\n",
    "    percentual = 20\n",
    "    aumento = salarioI * (percentual/100)\n",
    "elif salarioI <= 750:\n",
    "    percentual = 15\n",
    "    aumento = salarioI * (percentual/100)\n",
    "elif salarioI <= 1500:\n",
    "    percentual = 10\n",
    "    aumento = salarioI * (percentual/100)\n",
    "else:\n",
    "    percentual = 5\n",
    "    aumento = salarioI * (percentual/100)\n",
    "\n",
    "salarioF = salarioI + aumento\n",
    "\n",
    "print(\"Seu salário antes era R$\" ,salarioI, \"e recebeu um aumento de \" ,percentual,)\n",
    "print(\"O aumento foi de R$\" ,aumento, \"chegando ao total de: R$\" ,salarioF,)\n"
   ]
  },
  {
   "cell_type": "markdown",
   "id": "8a1bb554-9314-47ae-bf04-53b3d086397f",
   "metadata": {},
   "source": [
    "# 9)"
   ]
  },
  {
   "cell_type": "code",
   "execution_count": null,
   "id": "b8ae5b37-2248-4da4-bd93-5bfb243d0187",
   "metadata": {},
   "outputs": [],
   "source": [
    "aa"
   ]
  }
 ],
 "metadata": {
  "kernelspec": {
   "display_name": "Python [conda env:base] *",
   "language": "python",
   "name": "conda-base-py"
  },
  "language_info": {
   "codemirror_mode": {
    "name": "ipython",
    "version": 3
   },
   "file_extension": ".py",
   "mimetype": "text/x-python",
   "name": "python",
   "nbconvert_exporter": "python",
   "pygments_lexer": "ipython3",
   "version": "3.12.7"
  }
 },
 "nbformat": 4,
 "nbformat_minor": 5
}
