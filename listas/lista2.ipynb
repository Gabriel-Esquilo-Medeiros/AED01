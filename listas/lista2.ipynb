{
 "cells": [
  {
   "cell_type": "markdown",
   "id": "163aa28c-0e2e-40cb-9dbb-27a0a76bf311",
   "metadata": {},
   "source": [
    "# 1)"
   ]
  },
  {
   "cell_type": "code",
   "execution_count": 11,
   "id": "c1bf6814-2c6a-4e78-90ac-215553891a05",
   "metadata": {},
   "outputs": [
    {
     "name": "stdin",
     "output_type": "stream",
     "text": [
      "Digite uma nota entre 0 e 10:  2\n"
     ]
    },
    {
     "name": "stdout",
     "output_type": "stream",
     "text": [
      "Nota válida: 2.0\n"
     ]
    }
   ],
   "source": [
    "while True:\n",
    "    try:\n",
    "        nota = float(input(\"Digite uma nota entre 0 e 10: \"))\n",
    "        \n",
    "        if 0 <= nota <= 10:\n",
    "            print(f\"Nota válida: {nota}\")\n",
    "            break\n",
    "        else:\n",
    "            print(\"Valor inválido!\")\n",
    "    except ValueError:\n",
    "        print(\"Valor inválido! Digite apenas números.\")"
   ]
  },
  {
   "cell_type": "markdown",
   "id": "a10b2f2b-7d23-4c18-890e-25c0eee905e1",
   "metadata": {},
   "source": [
    "# 2)"
   ]
  },
  {
   "cell_type": "code",
   "execution_count": null,
   "id": "cb9f3bd5-c9dd-4eca-b716-f0372d5adf42",
   "metadata": {},
   "outputs": [],
   "source": [
    "print(\"Insira seu nome de usuário e senha: \")\n",
    " \n",
    "while True:\n",
    "        nome = str(input(\"Digite seu nome de usuário\"))\n",
    "        senha = str(input(\"Digite sua senha:\"))\n",
    "        \n",
    "        if nome == senha:\n",
    "            print(\"Nome e senhas validados: \")\n",
    "            break\n",
    "        else:\n",
    "            print(\"Inválido! O nome de usuário e a senha não podem ser iguais.\")\n",
    "            print(\"Negado!.\")\n",
    " \n",
    "print(\"Programa finalizado!\")"
   ]
  },
  {
   "cell_type": "markdown",
   "id": "2653470d-9eac-4ab4-aefc-fdda131f722c",
   "metadata": {},
   "source": [
    "# 3)"
   ]
  },
  {
   "cell_type": "code",
   "execution_count": 13,
   "id": "22e3f26e-206c-4c48-bb7c-0dd6fce48028",
   "metadata": {},
   "outputs": [
    {
     "name": "stdout",
     "output_type": "stream",
     "text": [
      "Insira algumas informações: \n"
     ]
    },
    {
     "name": "stdin",
     "output_type": "stream",
     "text": [
      "Digite seu nome:  Gabriel\n",
      "Digite sua idade:  18\n",
      "Digite seu salário:  99\n",
      "Digite seu sexo:  m\n",
      "Digite seu estado civil:  s\n"
     ]
    },
    {
     "name": "stdout",
     "output_type": "stream",
     "text": [
      "informações validadas \n"
     ]
    }
   ],
   "source": [
    "print(\"Insira algumas informações: \")\n",
    " \n",
    "while True:\n",
    "        nome = str(input(\"Digite seu nome: \"))\n",
    "        idade = int(input(\"Digite sua idade: \"))\n",
    "        salario = float(input(\"Digite seu salário: \"))\n",
    "        sexo = str(input(\"Digite seu sexo: \"))\n",
    "        civil = str(input(\"Digite seu estado civil: \"))\n",
    "    \n",
    "        if (len(nome) > 3) and (idade > 0 and idade < 150) and (salario > 0) and (sexo == \"f\" or sexo == \"m\") and (civil == \"s\" or civil == \"c\" or civil == \"v\" or civil == \"d\"):\n",
    "            print(\"informações validadas \")\n",
    "            break\n",
    "        else:\n",
    "            print(\"Inválido! As informações não foram inseridas corretamente!\")"
   ]
  },
  {
   "cell_type": "markdown",
   "id": "1b59810a-e110-40af-a0a4-e6e9db41560d",
   "metadata": {},
   "source": [
    "# 4)"
   ]
  },
  {
   "cell_type": "code",
   "execution_count": null,
   "id": "7ee59764-8b7d-4076-83a0-ee45cceedb21",
   "metadata": {},
   "outputs": [],
   "source": [
    "pA = 80000\n",
    "pB = 200000\n",
    "anos = 0\n",
    "print(\"A população A é de\" , pA , \"habitantes, e a população B é de\" , pB , \"habitantes.\")\n",
    "while pA < pB:\n",
    "  pA = pA * 1.03\n",
    "  pB = pB * 1.015\n",
    "  anos += 1\n",
    "  continue\n",
    "else:\n",
    "  print(\"A população A irá ultrapar ou igualar a população B em\", anos, \"anos.\")"
   ]
  },
  {
   "cell_type": "markdown",
   "id": "bf6bae2c-92ca-4fb8-b62e-55e196f4857e",
   "metadata": {},
   "source": [
    "# 5)"
   ]
  },
  {
   "cell_type": "code",
   "execution_count": null,
   "id": "135783d9-2d32-4c47-a425-6a7f63889721",
   "metadata": {},
   "outputs": [],
   "source": [
    "soma = 0\n",
    "for i in range(5):\n",
    "  n = float(input(\"Digite cinco números para eu somar e fazer a média: \"))\n",
    "  soma += n\n",
    "  \n",
    "print(\"A soma dos números é: \", soma)\n",
    "print(\"A média dos números é: \", soma/5)"
   ]
  },
  {
   "cell_type": "markdown",
   "id": "01cd942a-43d8-4d40-8b35-673b74e73bfc",
   "metadata": {},
   "source": [
    "# 6)"
   ]
  },
  {
   "cell_type": "code",
   "execution_count": null,
   "id": "418162ab-820b-4aae-bd10-47861777eb69",
   "metadata": {},
   "outputs": [],
   "source": [
    "n = int(input(\"Digite um número entre 1 e 10 para ver sua tabuada: \"))\n",
    "print(\"Tabuada do\" , n)\n",
    "for i in range(1, 11):\n",
    "  print(n, \"x\", i, \"=\", n *i)\n",
    "print(\"Fim da tabuada\")"
   ]
  },
  {
   "cell_type": "markdown",
   "id": "b44af50f-3eb1-4126-94f5-f1b5f5b5b38c",
   "metadata": {},
   "source": [
    "# 7)"
   ]
  },
  {
   "cell_type": "code",
   "execution_count": null,
   "id": "39fa9029-8fbc-418c-ae2e-979f6fc7a038",
   "metadata": {},
   "outputs": [],
   "source": [
    "n = int(input(\"Quantas vezes você quer a sequência de Fibonacci? \"))\n",
    "a, b = 1, 1\n",
    "while n > 0:\n",
    "  print (a, end= \" \")\n",
    "  a, b = b, a + b\n",
    "  n -= 1\n",
    "  print()\n",
    "print(\"Fim da sequência!\")"
   ]
  },
  {
   "cell_type": "markdown",
   "id": "69899375-914d-4719-8f84-1657d4711b23",
   "metadata": {},
   "source": [
    "# 8)"
   ]
  },
  {
   "cell_type": "code",
   "execution_count": null,
   "id": "7d541fa6-42d1-4976-bacf-4c7e65902f14",
   "metadata": {},
   "outputs": [],
   "source": [
    "n = int(input(\"Quantas notas você quer calcular a média: \"))\n",
    "soma = 0\n",
    "for i in range(n):\n",
    "  nota = float(input(\"Digite a nota: \"))\n",
    "  soma += nota\n",
    "  \n",
    "media = soma / n\n",
    "print(\"A média é:\" , media)"
   ]
  },
  {
   "cell_type": "markdown",
   "id": "48be5ed3-5127-4c18-95b5-1adad2715bee",
   "metadata": {},
   "source": [
    "# 9)"
   ]
  },
  {
   "cell_type": "code",
   "execution_count": null,
   "id": "aaf90c00-a555-417b-8310-160071e535e5",
   "metadata": {},
   "outputs": [],
   "source": [
    "print(\"Loja Quase Dois - Tabela de preços\")\n",
    " \n",
    "preco = 1.99\n",
    "for i in range(1, 51):\n",
    "    print(i, \"— R$\" ,preco * i )\n",
    "  \n",
    "qtd = int(input(\"Digite quantos artigos você quer: \"))\n",
    "print(\"O preço de \" ,qtd, \" artigos é de R$\" , qtd * preco)"
   ]
  }
 ],
 "metadata": {
  "kernelspec": {
   "display_name": "Python [conda env:base] *",
   "language": "python",
   "name": "conda-base-py"
  },
  "language_info": {
   "codemirror_mode": {
    "name": "ipython",
    "version": 3
   },
   "file_extension": ".py",
   "mimetype": "text/x-python",
   "name": "python",
   "nbconvert_exporter": "python",
   "pygments_lexer": "ipython3",
   "version": "3.12.7"
  }
 },
 "nbformat": 4,
 "nbformat_minor": 5
}
