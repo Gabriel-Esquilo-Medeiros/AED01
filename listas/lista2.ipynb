{
 "cells": [
  {
   "cell_type": "markdown",
   "id": "163aa28c-0e2e-40cb-9dbb-27a0a76bf311",
   "metadata": {},
   "source": [
    "# 1)"
   ]
  },
  {
   "cell_type": "code",
   "execution_count": null,
   "id": "c1bf6814-2c6a-4e78-90ac-215553891a05",
   "metadata": {},
   "outputs": [],
   "source": [
    "nota = float(input(\"Me fale uma nota entre 0 e 10\"))\n",
    "mensagem = \"Valor inválido\"\n",
    "while nota "
   ]
  }
 ],
 "metadata": {
  "kernelspec": {
   "display_name": "Python [conda env:base] *",
   "language": "python",
   "name": "conda-base-py"
  },
  "language_info": {
   "codemirror_mode": {
    "name": "ipython",
    "version": 3
   },
   "file_extension": ".py",
   "mimetype": "text/x-python",
   "name": "python",
   "nbconvert_exporter": "python",
   "pygments_lexer": "ipython3",
   "version": "3.12.7"
  }
 },
 "nbformat": 4,
 "nbformat_minor": 5
}
