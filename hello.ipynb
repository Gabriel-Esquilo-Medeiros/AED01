{
 "cells": [
  {
   "cell_type": "code",
   "execution_count": 1,
   "id": "a9d5e208-594b-41cd-b22b-3b6a3e6cedca",
   "metadata": {},
   "outputs": [],
   "source": [
    "sal = 10000"
   ]
  },
  {
   "cell_type": "code",
   "execution_count": 3,
   "id": "a5791852-1814-4300-9233-6b697e6282f3",
   "metadata": {},
   "outputs": [],
   "source": [
    "aum = sal * 0.153"
   ]
  },
  {
   "cell_type": "code",
   "execution_count": 5,
   "id": "e96507b8-aaf4-4375-8057-78f15c8f8fc7",
   "metadata": {},
   "outputs": [],
   "source": [
    "novo_sal = sal + aum"
   ]
  },
  {
   "cell_type": "code",
   "execution_count": 7,
   "id": "b92d9a8f-dca8-484c-ab2d-2014768f4325",
   "metadata": {},
   "outputs": [
    {
     "name": "stdout",
     "output_type": "stream",
     "text": [
      "11530.0\n"
     ]
    }
   ],
   "source": [
    "print(novo_sal)"
   ]
  },
  {
   "cell_type": "code",
   "execution_count": null,
   "id": "b9f28ab1-888f-432e-9592-1afe980eb03d",
   "metadata": {},
   "outputs": [],
   "source": [
    "y = (x + 3*b) / (2*x + c)"
   ]
  }
 ],
 "metadata": {
  "kernelspec": {
   "display_name": "Python [conda env:base] *",
   "language": "python",
   "name": "conda-base-py"
  },
  "language_info": {
   "codemirror_mode": {
    "name": "ipython",
    "version": 3
   },
   "file_extension": ".py",
   "mimetype": "text/x-python",
   "name": "python",
   "nbconvert_exporter": "python",
   "pygments_lexer": "ipython3",
   "version": "3.12.7"
  }
 },
 "nbformat": 4,
 "nbformat_minor": 5
}
