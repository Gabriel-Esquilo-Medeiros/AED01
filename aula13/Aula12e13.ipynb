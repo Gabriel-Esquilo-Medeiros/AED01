{
 "cells": [
  {
   "cell_type": "markdown",
   "id": "acabb65f-cbde-48b7-abe2-7900fb58d79c",
   "metadata": {},
   "source": [
    "## 1) Crie um programa que recebe uma frase de entrada e a normaliza. A normalização deve transformar a frase para minúsculas, remover os espaços em excesso e substituir os espaços restantes por underscores (_)."
   ]
  },
  {
   "cell_type": "code",
   "execution_count": 16,
   "id": "8fda27bb-efb0-4d34-b311-b0175ae10930",
   "metadata": {},
   "outputs": [
    {
     "name": "stdin",
     "output_type": "stream",
     "text": [
      "Digite uma frase:  BATATAO E BATA\n"
     ]
    },
    {
     "name": "stdout",
     "output_type": "stream",
     "text": [
      "batatao_e_bata\n"
     ]
    }
   ],
   "source": [
    "frase = str(input(\"Digite uma frase: \"))\n",
    "frase_m = frase.lower()\n",
    "frase_u = \"\"\n",
    "for caractere in frase_m:\n",
    "    if caractere == \" \":\n",
    "        frase_u += \"_\"\n",
    "    else:\n",
    "        frase_u += caractere\n",
    "print(frase_u)\n",
    "    "
   ]
  },
  {
   "cell_type": "markdown",
   "id": "ecfcef5f-18bf-41bd-a57a-b4955b042ba6",
   "metadata": {},
   "source": [
    "## 2) Dada uma lista pré-definida de vendas diárias, remova todas as vendas menores que R$ 100,00 e calcule a média das vendas restantes."
   ]
  },
  {
   "cell_type": "code",
   "execution_count": 23,
   "id": "6728ce9d-5b72-4983-b5d9-48c400fa8be9",
   "metadata": {},
   "outputs": [
    {
     "name": "stdout",
     "output_type": "stream",
     "text": [
      "455.0\n"
     ]
    }
   ],
   "source": [
    "vendas_G = [500, 650, 99, 97, 101, 1, 999, 43, 180, 45, 4, 300]\n",
    "mediaf = 0\n",
    "divd = 0\n",
    "for i in vendas_G:\n",
    "    if i >= 100:\n",
    "        mediaf += i\n",
    "        divd += 1\n",
    "    else:\n",
    "        mediaf += 0\n",
    "        divd += 0\n",
    "media_vendas = mediaf / divd\n",
    "print(media_vendas)"
   ]
  },
  {
   "cell_type": "markdown",
   "id": "91c49e8f-ce11-4105-af95-e8084b2d6f02",
   "metadata": {},
   "source": [
    "## 3)Crie um programa que recebe três coordenadas (x, y) como tuplas e calcula a distância média dos pontos a partir da origem (0, 0). Use a fórmula da distância Euclidiana."
   ]
  },
  {
   "cell_type": "code",
   "execution_count": null,
   "id": "2fffe37b-fa3e-4b9a-b8b0-34b4308b350f",
   "metadata": {},
   "outputs": [],
   "source": [
    "conj_xy = [0,0]\n",
    "for i in range(3):\n",
    "    x = float(input(f\"Passe o f{i}° valor:\"))\n",
    "for i in range(3):\n",
    "    y = float(input(f\"Passe o f{i}° valor:\"))\n",
    "    "
   ]
  }
 ],
 "metadata": {
  "kernelspec": {
   "display_name": "Python [conda env:base] *",
   "language": "python",
   "name": "conda-base-py"
  },
  "language_info": {
   "codemirror_mode": {
    "name": "ipython",
    "version": 3
   },
   "file_extension": ".py",
   "mimetype": "text/x-python",
   "name": "python",
   "nbconvert_exporter": "python",
   "pygments_lexer": "ipython3",
   "version": "3.12.7"
  }
 },
 "nbformat": 4,
 "nbformat_minor": 5
}
