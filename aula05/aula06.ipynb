{
 "cells": [
  {
   "cell_type": "markdown",
   "id": "13371eb9-5ebf-467d-9fdf-793cbaefcd68",
   "metadata": {},
   "source": [
    "# COMANDOS DE ENTRADA E SAÍDA"
   ]
  },
  {
   "cell_type": "code",
   "execution_count": 8,
   "id": "53f482f7-821a-4a34-9197-495dc6a134be",
   "metadata": {},
   "outputs": [
    {
     "name": "stdout",
     "output_type": "stream",
     "text": [
      "Gabriel tem 18 anos!\n"
     ]
    }
   ],
   "source": [
    "nome = \"Gabriel\"\n",
    "idade = \"18\"\n",
    "\n",
    "print(nome,\"tem\",idade, \"anos!\")"
   ]
  },
  {
   "cell_type": "code",
   "execution_count": 12,
   "id": "f110fe35-0350-4445-88a8-181c9f7bbf6f",
   "metadata": {},
   "outputs": [
    {
     "name": "stdin",
     "output_type": "stream",
     "text": [
      "Qual o seu nome serzinho:  Hello World\n"
     ]
    }
   ],
   "source": [
    "nome = input(\"Qual o seu nome serzinho: \")"
   ]
  },
  {
   "cell_type": "code",
   "execution_count": 14,
   "id": "8bdc3189-7dce-4e5b-9ea8-7d218597cce7",
   "metadata": {},
   "outputs": [
    {
     "name": "stdout",
     "output_type": "stream",
     "text": [
      "Hello World\n"
     ]
    }
   ],
   "source": [
    "print(nome)"
   ]
  },
  {
   "cell_type": "code",
   "execution_count": 16,
   "id": "e3ad42cf-a7b6-4400-96af-57e338698041",
   "metadata": {},
   "outputs": [
    {
     "data": {
      "text/plain": [
       "str"
      ]
     },
     "execution_count": 16,
     "metadata": {},
     "output_type": "execute_result"
    }
   ],
   "source": [
    "type(nome)"
   ]
  },
  {
   "cell_type": "code",
   "execution_count": 18,
   "id": "7a81dffd-8aa3-43a7-b783-7d29314a02ce",
   "metadata": {},
   "outputs": [
    {
     "name": "stdin",
     "output_type": "stream",
     "text": [
      "Qual a sua idade serzinho:  18\n"
     ]
    }
   ],
   "source": [
    "idade = input(\"Qual a sua idade serzinho: \")"
   ]
  },
  {
   "cell_type": "code",
   "execution_count": 20,
   "id": "54da8410-ad3c-48ad-91c6-f4dd3f3aadaf",
   "metadata": {},
   "outputs": [
    {
     "data": {
      "text/plain": [
       "'18'"
      ]
     },
     "execution_count": 20,
     "metadata": {},
     "output_type": "execute_result"
    }
   ],
   "source": [
    "idade"
   ]
  },
  {
   "cell_type": "code",
   "execution_count": 22,
   "id": "bb176fd1-396d-428f-8c1c-12328f3aa169",
   "metadata": {},
   "outputs": [],
   "source": [
    "idade = int(idade)"
   ]
  },
  {
   "cell_type": "code",
   "execution_count": 24,
   "id": "0a4864d4-5b74-4972-a617-2a2883ed1a75",
   "metadata": {},
   "outputs": [
    {
     "data": {
      "text/plain": [
       "18"
      ]
     },
     "execution_count": 24,
     "metadata": {},
     "output_type": "execute_result"
    }
   ],
   "source": [
    "idade"
   ]
  },
  {
   "cell_type": "code",
   "execution_count": 26,
   "id": "8abc61ce-4875-498e-8290-910f90707851",
   "metadata": {},
   "outputs": [
    {
     "data": {
      "text/plain": [
       "int"
      ]
     },
     "execution_count": 26,
     "metadata": {},
     "output_type": "execute_result"
    }
   ],
   "source": [
    "type(idade)"
   ]
  },
  {
   "cell_type": "code",
   "execution_count": 30,
   "id": "70b131dd-5ba2-4966-9a34-b13a972135ae",
   "metadata": {},
   "outputs": [
    {
     "name": "stdin",
     "output_type": "stream",
     "text": [
      "Qual sua idade serzinho:  18\n"
     ]
    }
   ],
   "source": [
    "idade = int(input(\"Qual sua idade serzinho: \"))"
   ]
  },
  {
   "cell_type": "code",
   "execution_count": 32,
   "id": "27a7ab81-4daa-452a-8710-b4725e95eb0d",
   "metadata": {},
   "outputs": [
    {
     "data": {
      "text/plain": [
       "18"
      ]
     },
     "execution_count": 32,
     "metadata": {},
     "output_type": "execute_result"
    }
   ],
   "source": [
    "idade"
   ]
  },
  {
   "cell_type": "code",
   "execution_count": 34,
   "id": "b3452223-9f07-4e4e-adbf-8d9b1990e735",
   "metadata": {},
   "outputs": [
    {
     "data": {
      "text/plain": [
       "int"
      ]
     },
     "execution_count": 34,
     "metadata": {},
     "output_type": "execute_result"
    }
   ],
   "source": [
    "type(idade)"
   ]
  },
  {
   "cell_type": "code",
   "execution_count": 36,
   "id": "2ea7be3b-643c-4480-9a31-8269cf87c7b7",
   "metadata": {},
   "outputs": [],
   "source": [
    "idade = float(idade)"
   ]
  },
  {
   "cell_type": "code",
   "execution_count": 38,
   "id": "d7224e31-f241-4ef0-9704-2ac42718c759",
   "metadata": {},
   "outputs": [
    {
     "data": {
      "text/plain": [
       "18.0"
      ]
     },
     "execution_count": 38,
     "metadata": {},
     "output_type": "execute_result"
    }
   ],
   "source": [
    "idade"
   ]
  },
  {
   "cell_type": "code",
   "execution_count": 40,
   "id": "5232e130-2d6e-4f03-a156-e13c3899169e",
   "metadata": {},
   "outputs": [
    {
     "data": {
      "text/plain": [
       "float"
      ]
     },
     "execution_count": 40,
     "metadata": {},
     "output_type": "execute_result"
    }
   ],
   "source": [
    "type(idade)"
   ]
  },
  {
   "cell_type": "code",
   "execution_count": 42,
   "id": "9bfe23d7-7102-4160-9625-f34f282a99cb",
   "metadata": {},
   "outputs": [],
   "source": [
    "idade = int(idade)"
   ]
  },
  {
   "cell_type": "code",
   "execution_count": 44,
   "id": "dcd4ac96-e940-4f12-ad6e-17e2d5d8b5e0",
   "metadata": {},
   "outputs": [
    {
     "data": {
      "text/plain": [
       "18"
      ]
     },
     "execution_count": 44,
     "metadata": {},
     "output_type": "execute_result"
    }
   ],
   "source": [
    "idade"
   ]
  },
  {
   "cell_type": "code",
   "execution_count": 46,
   "id": "10a3e000-5256-438c-8313-95dd01d51128",
   "metadata": {},
   "outputs": [
    {
     "data": {
      "text/plain": [
       "int"
      ]
     },
     "execution_count": 46,
     "metadata": {},
     "output_type": "execute_result"
    }
   ],
   "source": [
    "type(idade)"
   ]
  },
  {
   "cell_type": "code",
   "execution_count": 48,
   "id": "0fc0fbd0-6b39-4c45-9f49-38951354712d",
   "metadata": {},
   "outputs": [],
   "source": [
    "idade = str(idade)"
   ]
  },
  {
   "cell_type": "code",
   "execution_count": 50,
   "id": "080acc7b-6f26-4f9b-a9c3-1421dca1042a",
   "metadata": {},
   "outputs": [
    {
     "data": {
      "text/plain": [
       "'18'"
      ]
     },
     "execution_count": 50,
     "metadata": {},
     "output_type": "execute_result"
    }
   ],
   "source": [
    "idade"
   ]
  },
  {
   "cell_type": "code",
   "execution_count": 52,
   "id": "8d0ea008-0eda-4ccb-b075-c3cd33f15625",
   "metadata": {},
   "outputs": [
    {
     "data": {
      "text/plain": [
       "str"
      ]
     },
     "execution_count": 52,
     "metadata": {},
     "output_type": "execute_result"
    }
   ],
   "source": [
    "type(idade)"
   ]
  },
  {
   "cell_type": "code",
   "execution_count": 72,
   "id": "35cfe78d-12a2-4b5b-8c61-a70cad2b81f5",
   "metadata": {},
   "outputs": [
    {
     "name": "stdin",
     "output_type": "stream",
     "text": [
      "Digite o lado maior:  5\n",
      "Digite o lado menor:  3\n"
     ]
    },
    {
     "ename": "TypeError",
     "evalue": "'tuple' object is not callable",
     "output_type": "error",
     "traceback": [
      "\u001b[1;31m---------------------------------------------------------------------------\u001b[0m",
      "\u001b[1;31mTypeError\u001b[0m                                 Traceback (most recent call last)",
      "Cell \u001b[1;32mIn[72], line 4\u001b[0m\n\u001b[0;32m      2\u001b[0m lado2 \u001b[38;5;241m=\u001b[39m \u001b[38;5;28mfloat\u001b[39m(\u001b[38;5;28minput\u001b[39m(\u001b[38;5;124m\"\u001b[39m\u001b[38;5;124mDigite o lado menor: \u001b[39m\u001b[38;5;124m\"\u001b[39m))\n\u001b[0;32m      3\u001b[0m area \u001b[38;5;241m=\u001b[39m lado1 \u001b[38;5;241m+\u001b[39m lado2\n\u001b[1;32m----> 4\u001b[0m \u001b[38;5;28mprint\u001b[39m(\u001b[38;5;124m\"\u001b[39m\u001b[38;5;124mA área do quadrilátero é: \u001b[39m\u001b[38;5;124m\"\u001b[39m, area)\n",
      "\u001b[1;31mTypeError\u001b[0m: 'tuple' object is not callable"
     ]
    }
   ],
   "source": [
    "lado1 = float(input(\"Digite o lado maior: \"))\n",
    "lado2 = float(input(\"Digite o lado menor: \"))\n",
    "area = lado1 + lado2\n",
    "print(\"A área do quadrilátero é: \", area)"
   ]
  },
  {
   "cell_type": "code",
   "execution_count": null,
   "id": "506e5446-e793-45dd-9ece-f118ed7bd025",
   "metadata": {},
   "outputs": [],
   "source": []
  }
 ],
 "metadata": {
  "kernelspec": {
   "display_name": "Python [conda env:base] *",
   "language": "python",
   "name": "conda-base-py"
  },
  "language_info": {
   "codemirror_mode": {
    "name": "ipython",
    "version": 3
   },
   "file_extension": ".py",
   "mimetype": "text/x-python",
   "name": "python",
   "nbconvert_exporter": "python",
   "pygments_lexer": "ipython3",
   "version": "3.12.7"
  }
 },
 "nbformat": 4,
 "nbformat_minor": 5
}
