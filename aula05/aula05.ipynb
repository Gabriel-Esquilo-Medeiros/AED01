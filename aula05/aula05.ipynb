{
 "cells": [
  {
   "cell_type": "code",
   "execution_count": 1,
   "id": "332b97cd-a002-4f95-8aa2-ec46bd7cad17",
   "metadata": {},
   "outputs": [
    {
     "name": "stdout",
     "output_type": "stream",
     "text": [
      "Hello word\n"
     ]
    }
   ],
   "source": [
    "print (\"Hello word\")"
   ]
  },
  {
   "cell_type": "markdown",
   "id": "7d0125f1-6612-43ed-82b4-e98766bec12e",
   "metadata": {},
   "source": [
    "# TIPO INTEIRO"
   ]
  },
  {
   "cell_type": "code",
   "execution_count": 6,
   "id": "3aea6a25-658e-40be-a92d-66f3f8d7ddd4",
   "metadata": {},
   "outputs": [
    {
     "data": {
      "text/plain": [
       "10"
      ]
     },
     "execution_count": 6,
     "metadata": {},
     "output_type": "execute_result"
    }
   ],
   "source": [
    "10"
   ]
  },
  {
   "cell_type": "code",
   "execution_count": 8,
   "id": "9be8adad-bb28-44f6-a8e3-fa5cc124f451",
   "metadata": {},
   "outputs": [],
   "source": [
    "num = 10"
   ]
  },
  {
   "cell_type": "code",
   "execution_count": 10,
   "id": "9c7b22c5-43e0-48fe-9174-3e72e7aee0b1",
   "metadata": {},
   "outputs": [
    {
     "data": {
      "text/plain": [
       "10"
      ]
     },
     "execution_count": 10,
     "metadata": {},
     "output_type": "execute_result"
    }
   ],
   "source": [
    "num"
   ]
  },
  {
   "cell_type": "code",
   "execution_count": 12,
   "id": "060b5299-f83b-4706-a193-31c0823bdd16",
   "metadata": {},
   "outputs": [
    {
     "data": {
      "text/plain": [
       "int"
      ]
     },
     "execution_count": 12,
     "metadata": {},
     "output_type": "execute_result"
    }
   ],
   "source": [
    "type(num)"
   ]
  },
  {
   "cell_type": "code",
   "execution_count": 14,
   "id": "4ed41e79-e487-488b-8612-9404991dbe7c",
   "metadata": {},
   "outputs": [
    {
     "data": {
      "text/plain": [
       "30"
      ]
     },
     "execution_count": 14,
     "metadata": {},
     "output_type": "execute_result"
    }
   ],
   "source": [
    "10 + 20"
   ]
  },
  {
   "cell_type": "code",
   "execution_count": 16,
   "id": "f902e548-b1d6-44b5-b542-26709a1eb339",
   "metadata": {},
   "outputs": [
    {
     "data": {
      "text/plain": [
       "3.5"
      ]
     },
     "execution_count": 16,
     "metadata": {},
     "output_type": "execute_result"
    }
   ],
   "source": [
    "7/2"
   ]
  },
  {
   "cell_type": "code",
   "execution_count": 18,
   "id": "8e572a8b-df19-483b-975b-2e5b2f4be6d4",
   "metadata": {},
   "outputs": [
    {
     "data": {
      "text/plain": [
       "20"
      ]
     },
     "execution_count": 18,
     "metadata": {},
     "output_type": "execute_result"
    }
   ],
   "source": [
    "num + 10"
   ]
  },
  {
   "cell_type": "code",
   "execution_count": 20,
   "id": "a5669451-4d3a-4366-992e-18ef3ca15eca",
   "metadata": {},
   "outputs": [],
   "source": [
    "num = 20"
   ]
  },
  {
   "cell_type": "code",
   "execution_count": 22,
   "id": "10a05477-ccc3-4a5f-9a77-d390b7d10e9c",
   "metadata": {},
   "outputs": [
    {
     "data": {
      "text/plain": [
       "20"
      ]
     },
     "execution_count": 22,
     "metadata": {},
     "output_type": "execute_result"
    }
   ],
   "source": [
    "num"
   ]
  },
  {
   "cell_type": "code",
   "execution_count": 24,
   "id": "2afd6f5f-729e-49f8-a45a-d7ccce78aa3c",
   "metadata": {},
   "outputs": [],
   "source": [
    "x = 5"
   ]
  },
  {
   "cell_type": "code",
   "execution_count": 28,
   "id": "176fe1f1-a739-434e-b9cc-d26156cc09ff",
   "metadata": {},
   "outputs": [
    {
     "data": {
      "text/plain": [
       "25"
      ]
     },
     "execution_count": 28,
     "metadata": {},
     "output_type": "execute_result"
    }
   ],
   "source": [
    "num + x"
   ]
  },
  {
   "cell_type": "code",
   "execution_count": 33,
   "id": "3b46ea44-0617-43e4-a74d-fa99f24cb9be",
   "metadata": {},
   "outputs": [],
   "source": [
    "soma = num + x"
   ]
  },
  {
   "cell_type": "code",
   "execution_count": 35,
   "id": "a9eb1130-d97b-41d2-84f1-27dc2117632d",
   "metadata": {},
   "outputs": [
    {
     "data": {
      "text/plain": [
       "25"
      ]
     },
     "execution_count": 35,
     "metadata": {},
     "output_type": "execute_result"
    }
   ],
   "source": [
    "soma"
   ]
  },
  {
   "cell_type": "code",
   "execution_count": 37,
   "id": "3a7e2d90-cf5a-445a-bbb1-7942ac9665c3",
   "metadata": {},
   "outputs": [],
   "source": [
    "mult = num * x"
   ]
  },
  {
   "cell_type": "code",
   "execution_count": 39,
   "id": "8192b1a4-5327-4c85-be0a-fc06b2bace43",
   "metadata": {},
   "outputs": [
    {
     "data": {
      "text/plain": [
       "100"
      ]
     },
     "execution_count": 39,
     "metadata": {},
     "output_type": "execute_result"
    }
   ],
   "source": [
    "mult"
   ]
  },
  {
   "cell_type": "code",
   "execution_count": 41,
   "id": "4e9c7b7f-bcc3-4d45-84dd-9b8fb296e669",
   "metadata": {},
   "outputs": [
    {
     "data": {
      "text/plain": [
       "107150860718626732094842504906000181056140481170553360744375038837035105112493612249319837881569585812759467291755314682518714528569231404359845775746985748039345677748242309854210746050623711418779541821530464749835819412673987675591655439460770629145711964776865421676604298316526243868372056680693760000000000000000000000000000000000000000000000000000000000000000000000000000000000000000000000000000000000000000000000000000000000000000000000000000000000000000000000000000000000000000000000000000000000000000000000000000000000000000000000000000000000000000000000000000000000000000000000000000000000000000000000000000000000000000000000000000000000000000000000000000000000000000000000000000000000000000000000000000000000000000000000000000000000000000000000000000000000000000000000000000000000000000000000000000000000000000000000000000000000000000000000000000000000000000000000000000000000000000000000000000000000000000000000000000000000000000000000000000000000000000000000000000000000000000000000000000000000000000000000000000000000000000000000000000000000000000000000000000000000000000000000000000000000000000000000000000000000000000000000000000000000000000000000000000000000000000000000000000000000000000000000000000000000000000000000000000000000000000000000000000000000000000000000000000000000000000"
      ]
     },
     "execution_count": 41,
     "metadata": {},
     "output_type": "execute_result"
    }
   ],
   "source": [
    "20 ** 1000"
   ]
  },
  {
   "cell_type": "code",
   "execution_count": 43,
   "id": "49f1be92-e17e-4419-8ae5-412ce0ff7fa2",
   "metadata": {},
   "outputs": [],
   "source": [
    "x = num - 30"
   ]
  },
  {
   "cell_type": "code",
   "execution_count": 45,
   "id": "7d574519-69f7-4bd0-8bce-b3e48abfcea0",
   "metadata": {},
   "outputs": [
    {
     "data": {
      "text/plain": [
       "-10"
      ]
     },
     "execution_count": 45,
     "metadata": {},
     "output_type": "execute_result"
    }
   ],
   "source": [
    "x"
   ]
  },
  {
   "cell_type": "code",
   "execution_count": 47,
   "id": "ce3f165e-4c9c-4536-afbf-5caca494a2f1",
   "metadata": {},
   "outputs": [
    {
     "data": {
      "text/plain": [
       "3.5"
      ]
     },
     "execution_count": 47,
     "metadata": {},
     "output_type": "execute_result"
    }
   ],
   "source": [
    "7/2"
   ]
  },
  {
   "cell_type": "code",
   "execution_count": 49,
   "id": "ec90e91e-1acb-4a6a-9d6c-de8f5e313fd1",
   "metadata": {},
   "outputs": [
    {
     "data": {
      "text/plain": [
       "3"
      ]
     },
     "execution_count": 49,
     "metadata": {},
     "output_type": "execute_result"
    }
   ],
   "source": [
    "7//2"
   ]
  },
  {
   "cell_type": "code",
   "execution_count": 51,
   "id": "80bfffd4-8193-4783-b465-2f4c0edcf3a9",
   "metadata": {},
   "outputs": [
    {
     "data": {
      "text/plain": [
       "1"
      ]
     },
     "execution_count": 51,
     "metadata": {},
     "output_type": "execute_result"
    }
   ],
   "source": [
    "7%2"
   ]
  },
  {
   "cell_type": "code",
   "execution_count": 53,
   "id": "6ef4ca54-1c9d-4aba-a870-a3b53e4edcf6",
   "metadata": {},
   "outputs": [],
   "source": [
    "num = x + 3"
   ]
  },
  {
   "cell_type": "code",
   "execution_count": 55,
   "id": "246cf1a1-9f00-4500-a06a-2f965990f10c",
   "metadata": {},
   "outputs": [
    {
     "data": {
      "text/plain": [
       "-7"
      ]
     },
     "execution_count": 55,
     "metadata": {},
     "output_type": "execute_result"
    }
   ],
   "source": [
    "num "
   ]
  },
  {
   "cell_type": "code",
   "execution_count": 57,
   "id": "6422ccae-a904-4911-8b9f-184d9c31bc24",
   "metadata": {},
   "outputs": [],
   "source": [
    "num = num + 20"
   ]
  },
  {
   "cell_type": "code",
   "execution_count": 59,
   "id": "96b07325-83b5-44fa-9d39-9fbaa0b4d4fb",
   "metadata": {},
   "outputs": [
    {
     "data": {
      "text/plain": [
       "13"
      ]
     },
     "execution_count": 59,
     "metadata": {},
     "output_type": "execute_result"
    }
   ],
   "source": [
    "num "
   ]
  },
  {
   "cell_type": "code",
   "execution_count": 65,
   "id": "04bfb336-91ca-48fd-a0a7-2437e5eda217",
   "metadata": {},
   "outputs": [],
   "source": [
    "num += 20"
   ]
  },
  {
   "cell_type": "code",
   "execution_count": 69,
   "id": "871d33e1-a72a-411c-b2d1-57ab8c099f5c",
   "metadata": {},
   "outputs": [
    {
     "data": {
      "text/plain": [
       "40"
      ]
     },
     "execution_count": 69,
     "metadata": {},
     "output_type": "execute_result"
    }
   ],
   "source": [
    "num"
   ]
  },
  {
   "cell_type": "code",
   "execution_count": 71,
   "id": "1a768681-d805-4157-8e86-229d99174abe",
   "metadata": {},
   "outputs": [
    {
     "name": "stdout",
     "output_type": "stream",
     "text": [
      "20\n"
     ]
    }
   ],
   "source": [
    "num -=20\n",
    "print(num)"
   ]
  },
  {
   "cell_type": "code",
   "execution_count": 73,
   "id": "327abab3-6b7e-428f-8feb-0759a7004555",
   "metadata": {},
   "outputs": [
    {
     "name": "stdout",
     "output_type": "stream",
     "text": [
      "40\n"
     ]
    }
   ],
   "source": [
    "num *= 2\n",
    "print(num)"
   ]
  },
  {
   "cell_type": "code",
   "execution_count": 75,
   "id": "21e60a69-4570-458a-86a3-3e61ad1a6eb2",
   "metadata": {},
   "outputs": [
    {
     "name": "stdout",
     "output_type": "stream",
     "text": [
      "2.0\n"
     ]
    }
   ],
   "source": [
    "num /= 20\n",
    "print(num)"
   ]
  },
  {
   "cell_type": "code",
   "execution_count": 77,
   "id": "e6f87656-ae50-49da-a472-845a82d0b990",
   "metadata": {},
   "outputs": [
    {
     "data": {
      "text/plain": [
       "float"
      ]
     },
     "execution_count": 77,
     "metadata": {},
     "output_type": "execute_result"
    }
   ],
   "source": [
    "type(num)"
   ]
  },
  {
   "cell_type": "markdown",
   "id": "7cc0b0dd-09ab-48fb-b0b8-9867997881be",
   "metadata": {},
   "source": [
    "# TIPO FLOAT"
   ]
  },
  {
   "cell_type": "code",
   "execution_count": 80,
   "id": "075f53eb-e9ea-467f-bfba-f53db68aa723",
   "metadata": {},
   "outputs": [
    {
     "data": {
      "text/plain": [
       "float"
      ]
     },
     "execution_count": 80,
     "metadata": {},
     "output_type": "execute_result"
    }
   ],
   "source": [
    "type(num)"
   ]
  },
  {
   "cell_type": "code",
   "execution_count": 82,
   "id": "3e66ae8b-f416-4946-80a3-54d2b1825339",
   "metadata": {},
   "outputs": [
    {
     "name": "stdout",
     "output_type": "stream",
     "text": [
      "2.0\n"
     ]
    }
   ],
   "source": [
    "print(num)"
   ]
  },
  {
   "cell_type": "code",
   "execution_count": 84,
   "id": "689de224-6856-43c2-b9da-e36164b7dde1",
   "metadata": {},
   "outputs": [
    {
     "data": {
      "text/plain": [
       "31.0"
      ]
     },
     "execution_count": 84,
     "metadata": {},
     "output_type": "execute_result"
    }
   ],
   "source": [
    "10.44 + 20.56"
   ]
  },
  {
   "cell_type": "code",
   "execution_count": 86,
   "id": "188541ee-ccfb-4ea0-b2ce-0c7967963b4c",
   "metadata": {},
   "outputs": [
    {
     "name": "stdout",
     "output_type": "stream",
     "text": [
      "4.4\n"
     ]
    }
   ],
   "source": [
    "num *= 2.2\n",
    "print(num)"
   ]
  },
  {
   "cell_type": "markdown",
   "id": "4a8e9e6a-1f4f-4977-8533-128504b2b5da",
   "metadata": {},
   "source": [
    "# NÚMEROS COMPLEXOS (ENGENHARIA)"
   ]
  },
  {
   "cell_type": "code",
   "execution_count": 89,
   "id": "1fbb1060-320a-4919-8174-3122a7eb99d9",
   "metadata": {},
   "outputs": [
    {
     "data": {
      "text/plain": [
       "5j"
      ]
     },
     "execution_count": 89,
     "metadata": {},
     "output_type": "execute_result"
    }
   ],
   "source": [
    "5j"
   ]
  },
  {
   "cell_type": "code",
   "execution_count": 91,
   "id": "8a212266-1608-4e93-a2ab-1627a1a27824",
   "metadata": {},
   "outputs": [],
   "source": [
    "y = 6 + 5j"
   ]
  },
  {
   "cell_type": "code",
   "execution_count": 93,
   "id": "fc26ccbf-f868-4195-9d6c-96e5596332ea",
   "metadata": {},
   "outputs": [
    {
     "data": {
      "text/plain": [
       "(6+5j)"
      ]
     },
     "execution_count": 93,
     "metadata": {},
     "output_type": "execute_result"
    }
   ],
   "source": [
    "y"
   ]
  },
  {
   "cell_type": "code",
   "execution_count": 95,
   "id": "2590c699-5101-42d2-9873-1cbe5bcb3668",
   "metadata": {},
   "outputs": [
    {
     "data": {
      "text/plain": [
       "complex"
      ]
     },
     "execution_count": 95,
     "metadata": {},
     "output_type": "execute_result"
    }
   ],
   "source": [
    "type(y)"
   ]
  },
  {
   "cell_type": "markdown",
   "id": "3c69db77-0d86-4302-b5d1-2dbb6198fed8",
   "metadata": {},
   "source": [
    "# TIPO BOOLEANO (BOOL)"
   ]
  },
  {
   "cell_type": "code",
   "execution_count": 100,
   "id": "9ca1e075-4576-4dbb-a0d2-c26a26475b91",
   "metadata": {},
   "outputs": [
    {
     "data": {
      "text/plain": [
       "bool"
      ]
     },
     "execution_count": 100,
     "metadata": {},
     "output_type": "execute_result"
    }
   ],
   "source": [
    "flag = True \n",
    "type (flag)"
   ]
  },
  {
   "cell_type": "code",
   "execution_count": 102,
   "id": "7f8119ca-8798-4eec-9481-122bbb8e2768",
   "metadata": {},
   "outputs": [
    {
     "data": {
      "text/plain": [
       "True"
      ]
     },
     "execution_count": 102,
     "metadata": {},
     "output_type": "execute_result"
    }
   ],
   "source": [
    "flag"
   ]
  },
  {
   "cell_type": "code",
   "execution_count": 104,
   "id": "04e34d23-ec35-4a8b-a162-6cc4b48416fa",
   "metadata": {},
   "outputs": [
    {
     "data": {
      "text/plain": [
       "False"
      ]
     },
     "execution_count": 104,
     "metadata": {},
     "output_type": "execute_result"
    }
   ],
   "source": [
    "not flag"
   ]
  },
  {
   "cell_type": "code",
   "execution_count": null,
   "id": "994adb63-0ec4-4a00-a5ae-8ed8f3e79e88",
   "metadata": {},
   "outputs": [],
   "source": [
    "x = flag and False\n",
    "print (x)"
   ]
  },
  {
   "cell_type": "markdown",
   "id": "e71ff004-3c75-42fb-b88c-9382c1be6273",
   "metadata": {},
   "source": [
    "# TIPO STRING"
   ]
  },
  {
   "cell_type": "code",
   "execution_count": 109,
   "id": "970eb657-cf44-4313-8ed2-ad5e871c5e4b",
   "metadata": {},
   "outputs": [],
   "source": [
    "letra = \"a\""
   ]
  },
  {
   "cell_type": "code",
   "execution_count": 111,
   "id": "63144e84-0321-4ad0-ad88-4f7a26e02d3b",
   "metadata": {},
   "outputs": [
    {
     "data": {
      "text/plain": [
       "str"
      ]
     },
     "execution_count": 111,
     "metadata": {},
     "output_type": "execute_result"
    }
   ],
   "source": [
    "type(letra)"
   ]
  },
  {
   "cell_type": "code",
   "execution_count": 123,
   "id": "01f6584d-2a1d-4cec-89d9-a2e4d55af37d",
   "metadata": {},
   "outputs": [],
   "source": [
    "frase = \"Batatinha quando nasce, espalharrama pelo chão\""
   ]
  },
  {
   "cell_type": "code",
   "execution_count": 125,
   "id": "9b016d1b-3096-4806-b527-6ca85c4bbc6b",
   "metadata": {},
   "outputs": [
    {
     "data": {
      "text/plain": [
       "'Batatinha quando nasce, espalharrama pelo chão'"
      ]
     },
     "execution_count": 125,
     "metadata": {},
     "output_type": "execute_result"
    }
   ],
   "source": [
    "frase"
   ]
  },
  {
   "cell_type": "code",
   "execution_count": 127,
   "id": "b45536cb-757c-4545-86c2-cf2d9bb03656",
   "metadata": {},
   "outputs": [
    {
     "data": {
      "text/plain": [
       "str"
      ]
     },
     "execution_count": 127,
     "metadata": {},
     "output_type": "execute_result"
    }
   ],
   "source": [
    "type(frase)"
   ]
  },
  {
   "cell_type": "code",
   "execution_count": 129,
   "id": "89c46c04-3589-4c95-8024-5f96a2bb82fb",
   "metadata": {},
   "outputs": [],
   "source": [
    "palavra = \"Python\""
   ]
  },
  {
   "cell_type": "code",
   "execution_count": 131,
   "id": "4118d04f-1a65-4378-8ced-f858c3108066",
   "metadata": {},
   "outputs": [
    {
     "data": {
      "text/plain": [
       "'Python'"
      ]
     },
     "execution_count": 131,
     "metadata": {},
     "output_type": "execute_result"
    }
   ],
   "source": [
    "palavra"
   ]
  },
  {
   "cell_type": "code",
   "execution_count": 133,
   "id": "c7c6c78f-25bf-4b55-be55-a2787c8b01d3",
   "metadata": {},
   "outputs": [
    {
     "data": {
      "text/plain": [
       "str"
      ]
     },
     "execution_count": 133,
     "metadata": {},
     "output_type": "execute_result"
    }
   ],
   "source": [
    "type(palavra)"
   ]
  },
  {
   "cell_type": "code",
   "execution_count": 135,
   "id": "787867ba-af38-46aa-91db-992b4ce767c9",
   "metadata": {},
   "outputs": [
    {
     "data": {
      "text/plain": [
       "'P'"
      ]
     },
     "execution_count": 135,
     "metadata": {},
     "output_type": "execute_result"
    }
   ],
   "source": [
    "palavra [0]"
   ]
  },
  {
   "cell_type": "code",
   "execution_count": 152,
   "id": "32607d62-70b2-4735-a1c2-f0b021366476",
   "metadata": {},
   "outputs": [
    {
     "data": {
      "text/plain": [
       "['__add__',\n",
       " '__class__',\n",
       " '__contains__',\n",
       " '__delattr__',\n",
       " '__dir__',\n",
       " '__doc__',\n",
       " '__eq__',\n",
       " '__format__',\n",
       " '__ge__',\n",
       " '__getattribute__',\n",
       " '__getitem__',\n",
       " '__getnewargs__',\n",
       " '__getstate__',\n",
       " '__gt__',\n",
       " '__hash__',\n",
       " '__init__',\n",
       " '__init_subclass__',\n",
       " '__iter__',\n",
       " '__le__',\n",
       " '__len__',\n",
       " '__lt__',\n",
       " '__mod__',\n",
       " '__mul__',\n",
       " '__ne__',\n",
       " '__new__',\n",
       " '__reduce__',\n",
       " '__reduce_ex__',\n",
       " '__repr__',\n",
       " '__rmod__',\n",
       " '__rmul__',\n",
       " '__setattr__',\n",
       " '__sizeof__',\n",
       " '__str__',\n",
       " '__subclasshook__',\n",
       " 'capitalize',\n",
       " 'casefold',\n",
       " 'center',\n",
       " 'count',\n",
       " 'encode',\n",
       " 'endswith',\n",
       " 'expandtabs',\n",
       " 'find',\n",
       " 'format',\n",
       " 'format_map',\n",
       " 'index',\n",
       " 'isalnum',\n",
       " 'isalpha',\n",
       " 'isascii',\n",
       " 'isdecimal',\n",
       " 'isdigit',\n",
       " 'isidentifier',\n",
       " 'islower',\n",
       " 'isnumeric',\n",
       " 'isprintable',\n",
       " 'isspace',\n",
       " 'istitle',\n",
       " 'isupper',\n",
       " 'join',\n",
       " 'ljust',\n",
       " 'lower',\n",
       " 'lstrip',\n",
       " 'maketrans',\n",
       " 'partition',\n",
       " 'removeprefix',\n",
       " 'removesuffix',\n",
       " 'replace',\n",
       " 'rfind',\n",
       " 'rindex',\n",
       " 'rjust',\n",
       " 'rpartition',\n",
       " 'rsplit',\n",
       " 'rstrip',\n",
       " 'split',\n",
       " 'splitlines',\n",
       " 'startswith',\n",
       " 'strip',\n",
       " 'swapcase',\n",
       " 'title',\n",
       " 'translate',\n",
       " 'upper',\n",
       " 'zfill']"
      ]
     },
     "execution_count": 152,
     "metadata": {},
     "output_type": "execute_result"
    }
   ],
   "source": [
    "dir(palavra)"
   ]
  },
  {
   "cell_type": "code",
   "execution_count": 154,
   "id": "14ca7c6f-822d-494b-a125-a4b70de4796d",
   "metadata": {},
   "outputs": [
    {
     "data": {
      "text/plain": [
       "'Python'"
      ]
     },
     "execution_count": 154,
     "metadata": {},
     "output_type": "execute_result"
    }
   ],
   "source": [
    "palavra"
   ]
  },
  {
   "cell_type": "code",
   "execution_count": 156,
   "id": "cf28087f-948b-415a-b8f8-641c730b6bdf",
   "metadata": {},
   "outputs": [
    {
     "data": {
      "text/plain": [
       "'PYTHON'"
      ]
     },
     "execution_count": 156,
     "metadata": {},
     "output_type": "execute_result"
    }
   ],
   "source": [
    "palavra.upper()"
   ]
  },
  {
   "cell_type": "code",
   "execution_count": 158,
   "id": "df7311df-9255-4bca-b08f-c8e665c83314",
   "metadata": {},
   "outputs": [
    {
     "data": {
      "text/plain": [
       "'Python'"
      ]
     },
     "execution_count": 158,
     "metadata": {},
     "output_type": "execute_result"
    }
   ],
   "source": [
    "palavra"
   ]
  },
  {
   "cell_type": "markdown",
   "id": "97f0ddf8-a49c-4a81-b6e9-4b4967168de6",
   "metadata": {},
   "source": [
    "# FUNÇÕES IMBUTIDAS"
   ]
  },
  {
   "cell_type": "code",
   "execution_count": 138,
   "id": "1c5e1fac-c92f-4241-9328-37e99850ee86",
   "metadata": {},
   "outputs": [
    {
     "data": {
      "text/plain": [
       "40"
      ]
     },
     "execution_count": 138,
     "metadata": {},
     "output_type": "execute_result"
    }
   ],
   "source": [
    "abs(40)"
   ]
  },
  {
   "cell_type": "code",
   "execution_count": 140,
   "id": "ea4cbf16-5ca0-4e15-8931-29c6042352e2",
   "metadata": {},
   "outputs": [
    {
     "data": {
      "text/plain": [
       "34"
      ]
     },
     "execution_count": 140,
     "metadata": {},
     "output_type": "execute_result"
    }
   ],
   "source": [
    "abs(-34)"
   ]
  },
  {
   "cell_type": "code",
   "execution_count": 144,
   "id": "944605bf-6809-47da-8265-b3008b8f31d8",
   "metadata": {},
   "outputs": [
    {
     "data": {
      "text/plain": [
       "'_'"
      ]
     },
     "execution_count": 144,
     "metadata": {},
     "output_type": "execute_result"
    }
   ],
   "source": [
    "chr(95)"
   ]
  },
  {
   "cell_type": "code",
   "execution_count": 146,
   "id": "74bb9300-6f69-4509-88b4-39a15682aa56",
   "metadata": {},
   "outputs": [
    {
     "data": {
      "text/plain": [
       "'A'"
      ]
     },
     "execution_count": 146,
     "metadata": {},
     "output_type": "execute_result"
    }
   ],
   "source": [
    "chr(65)"
   ]
  },
  {
   "cell_type": "code",
   "execution_count": 148,
   "id": "c0657d86-f4a0-4b64-bbbb-b1127012712c",
   "metadata": {},
   "outputs": [
    {
     "data": {
      "text/plain": [
       "122"
      ]
     },
     "execution_count": 148,
     "metadata": {},
     "output_type": "execute_result"
    }
   ],
   "source": [
    "ord(\"z\")"
   ]
  },
  {
   "cell_type": "code",
   "execution_count": 150,
   "id": "ed4837c8-42b1-4d43-aa09-e0e22b977a96",
   "metadata": {},
   "outputs": [
    {
     "data": {
      "text/plain": [
       "'z'"
      ]
     },
     "execution_count": 150,
     "metadata": {},
     "output_type": "execute_result"
    }
   ],
   "source": [
    "chr(122)"
   ]
  },
  {
   "cell_type": "code",
   "execution_count": 162,
   "id": "e26a2b08-1c5c-4eb7-ba28-843fa84c70af",
   "metadata": {},
   "outputs": [
    {
     "name": "stdout",
     "output_type": "stream",
     "text": [
      "Help on built-in function ord in module builtins:\n",
      "\n",
      "ord(c, /)\n",
      "    Return the Unicode code point for a one-character string.\n",
      "\n"
     ]
    }
   ],
   "source": [
    "help(ord)"
   ]
  },
  {
   "cell_type": "code",
   "execution_count": null,
   "id": "e18a654a-bb2e-486c-98d4-791ce4afeca8",
   "metadata": {},
   "outputs": [],
   "source": [
    "nome = \"Maria\"\n",
    "idade = \"21\"\n",
    "\n",
    "print(\"\")"
   ]
  }
 ],
 "metadata": {
  "kernelspec": {
   "display_name": "Python [conda env:base] *",
   "language": "python",
   "name": "conda-base-py"
  },
  "language_info": {
   "codemirror_mode": {
    "name": "ipython",
    "version": 3
   },
   "file_extension": ".py",
   "mimetype": "text/x-python",
   "name": "python",
   "nbconvert_exporter": "python",
   "pygments_lexer": "ipython3",
   "version": "3.12.7"
  }
 },
 "nbformat": 4,
 "nbformat_minor": 5
}
